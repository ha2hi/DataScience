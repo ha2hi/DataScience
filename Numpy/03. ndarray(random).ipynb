{
 "cells": [
  {
   "cell_type": "markdown",
   "metadata": {},
   "source": [
    "### 학습목표\n",
    " - random 서브모듈 함수를 통해 ndarray 생성하기"
   ]
  },
  {
   "cell_type": "code",
   "execution_count": 1,
   "metadata": {},
   "outputs": [],
   "source": [
    "import numpy as np"
   ]
  },
  {
   "cell_type": "markdown",
   "metadata": {},
   "source": [
    "#### random 서브모듈"
   ]
  },
  {
   "cell_type": "markdown",
   "metadata": {},
   "source": [
    "#### rand 함수\n",
    " - 0, 1사이의 분포로 랜덤한 ndarray 생성"
   ]
  },
  {
   "cell_type": "code",
   "execution_count": 2,
   "metadata": {},
   "outputs": [
    {
     "data": {
      "text/plain": [
       "array([[[9.59884806e-01, 1.23637331e-01, 1.51714743e-01],\n",
       "        [5.77741776e-01, 3.08576582e-01, 8.49617938e-02],\n",
       "        [4.62827568e-01, 6.99510443e-01, 6.11457082e-01],\n",
       "        [7.73797396e-02, 1.40289692e-01, 5.27072904e-04],\n",
       "        [7.33265676e-01, 2.89169193e-01, 5.14882870e-01]],\n",
       "\n",
       "       [[4.01461225e-02, 5.88968392e-01, 7.49554677e-01],\n",
       "        [1.91807001e-01, 4.43144153e-01, 7.57012521e-01],\n",
       "        [6.22280857e-01, 2.33906082e-01, 7.98483646e-01],\n",
       "        [9.55513863e-01, 7.33930494e-01, 9.67110406e-01],\n",
       "        [5.27060893e-01, 9.82567690e-01, 6.69954743e-01]],\n",
       "\n",
       "       [[3.16129119e-01, 4.56960762e-01, 4.53978951e-02],\n",
       "        [9.92354086e-01, 3.22938702e-02, 8.58319462e-01],\n",
       "        [7.68307485e-01, 1.66798766e-01, 9.15619508e-01],\n",
       "        [2.65478802e-01, 9.03411608e-01, 9.82921116e-01],\n",
       "        [6.68736173e-01, 5.37633233e-01, 4.89604563e-01]],\n",
       "\n",
       "       [[7.32633550e-01, 4.14821641e-01, 5.81811391e-01],\n",
       "        [9.64606652e-01, 2.67536037e-02, 4.37534348e-01],\n",
       "        [9.14674731e-01, 8.79398783e-01, 9.26197962e-01],\n",
       "        [9.54077645e-01, 3.75257985e-01, 6.45052521e-01],\n",
       "        [6.42485158e-01, 4.99231207e-01, 9.19477314e-01]]])"
      ]
     },
     "execution_count": 2,
     "metadata": {},
     "output_type": "execute_result"
    }
   ],
   "source": [
    "np.random.rand(4, 5, 3)"
   ]
  },
  {
   "cell_type": "markdown",
   "metadata": {},
   "source": [
    "#### randn함수\n",
    " - n: normal distribution(정규분포)\n",
    " - 정규분포로 샘플링된 랜덤 ndarray 생성"
   ]
  },
  {
   "cell_type": "code",
   "execution_count": 3,
   "metadata": {},
   "outputs": [
    {
     "data": {
      "text/plain": [
       "array([ 0.44928473, -2.6440624 ,  0.7848345 , -1.21519423,  0.13571252])"
      ]
     },
     "execution_count": 3,
     "metadata": {},
     "output_type": "execute_result"
    }
   ],
   "source": [
    "np.random.randn(5)"
   ]
  },
  {
   "cell_type": "code",
   "execution_count": 4,
   "metadata": {},
   "outputs": [
    {
     "data": {
      "text/plain": [
       "array([[[-0.69360813,  0.68423596],\n",
       "        [ 0.00615224,  0.36412756],\n",
       "        [ 1.00524501, -0.32465268],\n",
       "        [ 0.10314971, -0.68410563]],\n",
       "\n",
       "       [[ 1.3928122 ,  1.95066884],\n",
       "        [-0.30828868,  0.75282734],\n",
       "        [ 0.0097365 , -0.35453571],\n",
       "        [-1.01370486,  0.31313753]],\n",
       "\n",
       "       [[-1.0098269 ,  0.94561994],\n",
       "        [-1.61110061, -0.15428152],\n",
       "        [-1.18816707,  0.27079195],\n",
       "        [-1.49715264, -0.23433631]]])"
      ]
     },
     "execution_count": 4,
     "metadata": {},
     "output_type": "execute_result"
    }
   ],
   "source": [
    "np.random.randn(3, 4, 2)"
   ]
  },
  {
   "cell_type": "markdown",
   "metadata": {},
   "source": [
    "#### randint 함수\n",
    " - 특정 정수 사이에서 랜덤하게 샘플링"
   ]
  },
  {
   "cell_type": "code",
   "execution_count": 5,
   "metadata": {},
   "outputs": [
    {
     "data": {
      "text/plain": [
       "array([88, 48, 62, 18,  2])"
      ]
     },
     "execution_count": 5,
     "metadata": {},
     "output_type": "execute_result"
    }
   ],
   "source": [
    "np.random.randint(1, 100, size=(5,))"
   ]
  },
  {
   "cell_type": "markdown",
   "metadata": {},
   "source": [
    "#### seed 함수\n",
    " - 랜덤한 값을 동일하게 다시 생성하고자 할때 사용"
   ]
  },
  {
   "cell_type": "code",
   "execution_count": 6,
   "metadata": {},
   "outputs": [
    {
     "data": {
      "text/plain": [
       "array([[ 0.66698806,  0.02581308, -0.77761941,  0.94863382],\n",
       "       [ 0.70167179, -1.05108156, -0.36754812, -1.13745969],\n",
       "       [-1.32214752,  1.77225828, -0.34745899,  0.67014016]])"
      ]
     },
     "execution_count": 6,
     "metadata": {},
     "output_type": "execute_result"
    }
   ],
   "source": [
    "np.random.seed(23)\n",
    "np.random.randn(3, 4)"
   ]
  },
  {
   "cell_type": "markdown",
   "metadata": {},
   "source": [
    "#### choice\n",
    " - 주어진 1차원 ndarray로 부터 랜덤으로 샘플링\n",
    " - 정수가 주어진 경우, np.arange(해당숫자)로 간주"
   ]
  },
  {
   "cell_type": "code",
   "execution_count": 7,
   "metadata": {},
   "outputs": [
    {
     "data": {
      "text/plain": [
       "array([[79, 90, 62, 57],\n",
       "       [19, 33, 59, 39],\n",
       "       [15, 36, 65,  1]])"
      ]
     },
     "execution_count": 7,
     "metadata": {},
     "output_type": "execute_result"
    }
   ],
   "source": [
    "np.random.choice(100, size=(3, 4))"
   ]
  },
  {
   "cell_type": "code",
   "execution_count": 8,
   "metadata": {},
   "outputs": [
    {
     "data": {
      "text/plain": [
       "array([[1. , 2. ],\n",
       "       [3. , 4.9]])"
      ]
     },
     "execution_count": 8,
     "metadata": {},
     "output_type": "execute_result"
    }
   ],
   "source": [
    "x = np.array([1, 2, 3, 1.5, 2.6, 4.9])\n",
    "np.random.choice(x, size=(2, 2), replace=False)"
   ]
  },
  {
   "cell_type": "markdown",
   "metadata": {},
   "source": [
    "#### 확률분포에 따른 ndarray 생성\n",
    " - uniform\n",
    " - normal 등등"
   ]
  },
  {
   "cell_type": "code",
   "execution_count": 9,
   "metadata": {},
   "outputs": [
    {
     "data": {
      "text/plain": [
       "array([[2.51225457, 2.66736254, 1.34436822, 1.42430685, 2.74942904],\n",
       "       [1.8654592 , 2.75215591, 1.94121243, 1.60485579, 2.53464481],\n",
       "       [1.02068753, 2.35248663, 1.94336175, 2.26833065, 2.84085397],\n",
       "       [1.26336399, 2.67879335, 2.40971945, 2.93578399, 2.80844986]])"
      ]
     },
     "execution_count": 9,
     "metadata": {},
     "output_type": "execute_result"
    }
   ],
   "source": [
    "np.random.uniform(1.0, 3.0, size=(4, 5))"
   ]
  },
  {
   "cell_type": "code",
   "execution_count": 10,
   "metadata": {},
   "outputs": [
    {
     "data": {
      "text/plain": [
       "array([[-1.10028295,  0.19820952,  0.0407598 ,  0.78145406],\n",
       "       [ 0.06493754, -0.15102838, -0.01601653,  1.5072508 ],\n",
       "       [-1.60482532,  1.78616035, -0.2363808 , -2.42559596]])"
      ]
     },
     "execution_count": 10,
     "metadata": {},
     "output_type": "execute_result"
    }
   ],
   "source": [
    "np.random.normal(size=(3, 4))\n",
    "np.random.randn(3, 4)"
   ]
  },
  {
   "cell_type": "code",
   "execution_count": null,
   "metadata": {},
   "outputs": [],
   "source": []
  }
 ],
 "metadata": {
  "kernelspec": {
   "display_name": "Python 3",
   "language": "python",
   "name": "python3"
  },
  "language_info": {
   "codemirror_mode": {
    "name": "ipython",
    "version": 3
   },
   "file_extension": ".py",
   "mimetype": "text/x-python",
   "name": "python",
   "nbconvert_exporter": "python",
   "pygments_lexer": "ipython3",
   "version": "3.8.3"
  }
 },
 "nbformat": 4,
 "nbformat_minor": 2
}
