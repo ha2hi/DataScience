{
 "cells": [
  {
   "cell_type": "code",
   "execution_count": 1,
   "metadata": {},
   "outputs": [],
   "source": [
    "import os\n",
    "import pandas as pd \n",
    "import numpy as np\n",
    "import statsmodels.api as sm"
   ]
  },
  {
   "cell_type": "code",
   "execution_count": 2,
   "metadata": {},
   "outputs": [
    {
     "data": {
      "text/plain": [
       "'/Users/johyeogsang/FASTCAMPUS/전체-강의자료/Part 05~11) Machine Learning/06. 회귀분석/완성코드'"
      ]
     },
     "execution_count": 2,
     "metadata": {},
     "output_type": "execute_result"
    }
   ],
   "source": [
    "# 현재경로 확인\n",
    "os.getcwd()"
   ]
  },
  {
   "cell_type": "code",
   "execution_count": 3,
   "metadata": {
    "scrolled": true
   },
   "outputs": [],
   "source": [
    "# 데이터 불러오기\n",
    "boston = pd.read_csv(\"./Boston_house.csv\")\n"
   ]
  },
  {
   "cell_type": "code",
   "execution_count": 4,
   "metadata": {},
   "outputs": [],
   "source": [
    "boston_data = boston.drop(['Target'],axis=1)\n",
    "# boston_data"
   ]
  },
  {
   "cell_type": "code",
   "execution_count": 5,
   "metadata": {},
   "outputs": [
    {
     "data": {
      "text/html": [
       "<div>\n",
       "<style scoped>\n",
       "    .dataframe tbody tr th:only-of-type {\n",
       "        vertical-align: middle;\n",
       "    }\n",
       "\n",
       "    .dataframe tbody tr th {\n",
       "        vertical-align: top;\n",
       "    }\n",
       "\n",
       "    .dataframe thead th {\n",
       "        text-align: right;\n",
       "    }\n",
       "</style>\n",
       "<table border=\"1\" class=\"dataframe\">\n",
       "  <thead>\n",
       "    <tr style=\"text-align: right;\">\n",
       "      <th></th>\n",
       "      <th>AGE</th>\n",
       "      <th>B</th>\n",
       "      <th>RM</th>\n",
       "      <th>CRIM</th>\n",
       "      <th>DIS</th>\n",
       "      <th>INDUS</th>\n",
       "      <th>LSTAT</th>\n",
       "      <th>NOX</th>\n",
       "      <th>PTRATIO</th>\n",
       "      <th>RAD</th>\n",
       "      <th>ZN</th>\n",
       "      <th>TAX</th>\n",
       "      <th>CHAS</th>\n",
       "    </tr>\n",
       "  </thead>\n",
       "  <tbody>\n",
       "    <tr>\n",
       "      <th>count</th>\n",
       "      <td>506.000000</td>\n",
       "      <td>506.000000</td>\n",
       "      <td>506.000000</td>\n",
       "      <td>506.000000</td>\n",
       "      <td>506.000000</td>\n",
       "      <td>506.000000</td>\n",
       "      <td>506.000000</td>\n",
       "      <td>506.000000</td>\n",
       "      <td>506.000000</td>\n",
       "      <td>506.000000</td>\n",
       "      <td>506.000000</td>\n",
       "      <td>506.000000</td>\n",
       "      <td>506.000000</td>\n",
       "    </tr>\n",
       "    <tr>\n",
       "      <th>mean</th>\n",
       "      <td>68.574901</td>\n",
       "      <td>356.674032</td>\n",
       "      <td>6.284634</td>\n",
       "      <td>3.613524</td>\n",
       "      <td>3.795043</td>\n",
       "      <td>11.136779</td>\n",
       "      <td>12.653063</td>\n",
       "      <td>0.554695</td>\n",
       "      <td>18.455534</td>\n",
       "      <td>9.549407</td>\n",
       "      <td>11.363636</td>\n",
       "      <td>408.237154</td>\n",
       "      <td>0.069170</td>\n",
       "    </tr>\n",
       "    <tr>\n",
       "      <th>std</th>\n",
       "      <td>28.148861</td>\n",
       "      <td>91.294864</td>\n",
       "      <td>0.702617</td>\n",
       "      <td>8.601545</td>\n",
       "      <td>2.105710</td>\n",
       "      <td>6.860353</td>\n",
       "      <td>7.141062</td>\n",
       "      <td>0.115878</td>\n",
       "      <td>2.164946</td>\n",
       "      <td>8.707259</td>\n",
       "      <td>23.322453</td>\n",
       "      <td>168.537116</td>\n",
       "      <td>0.253994</td>\n",
       "    </tr>\n",
       "    <tr>\n",
       "      <th>min</th>\n",
       "      <td>2.900000</td>\n",
       "      <td>0.320000</td>\n",
       "      <td>3.561000</td>\n",
       "      <td>0.006320</td>\n",
       "      <td>1.129600</td>\n",
       "      <td>0.460000</td>\n",
       "      <td>1.730000</td>\n",
       "      <td>0.385000</td>\n",
       "      <td>12.600000</td>\n",
       "      <td>1.000000</td>\n",
       "      <td>0.000000</td>\n",
       "      <td>187.000000</td>\n",
       "      <td>0.000000</td>\n",
       "    </tr>\n",
       "    <tr>\n",
       "      <th>25%</th>\n",
       "      <td>45.025000</td>\n",
       "      <td>375.377500</td>\n",
       "      <td>5.885500</td>\n",
       "      <td>0.082045</td>\n",
       "      <td>2.100175</td>\n",
       "      <td>5.190000</td>\n",
       "      <td>6.950000</td>\n",
       "      <td>0.449000</td>\n",
       "      <td>17.400000</td>\n",
       "      <td>4.000000</td>\n",
       "      <td>0.000000</td>\n",
       "      <td>279.000000</td>\n",
       "      <td>0.000000</td>\n",
       "    </tr>\n",
       "    <tr>\n",
       "      <th>50%</th>\n",
       "      <td>77.500000</td>\n",
       "      <td>391.440000</td>\n",
       "      <td>6.208500</td>\n",
       "      <td>0.256510</td>\n",
       "      <td>3.207450</td>\n",
       "      <td>9.690000</td>\n",
       "      <td>11.360000</td>\n",
       "      <td>0.538000</td>\n",
       "      <td>19.050000</td>\n",
       "      <td>5.000000</td>\n",
       "      <td>0.000000</td>\n",
       "      <td>330.000000</td>\n",
       "      <td>0.000000</td>\n",
       "    </tr>\n",
       "    <tr>\n",
       "      <th>75%</th>\n",
       "      <td>94.075000</td>\n",
       "      <td>396.225000</td>\n",
       "      <td>6.623500</td>\n",
       "      <td>3.677082</td>\n",
       "      <td>5.188425</td>\n",
       "      <td>18.100000</td>\n",
       "      <td>16.955000</td>\n",
       "      <td>0.624000</td>\n",
       "      <td>20.200000</td>\n",
       "      <td>24.000000</td>\n",
       "      <td>12.500000</td>\n",
       "      <td>666.000000</td>\n",
       "      <td>0.000000</td>\n",
       "    </tr>\n",
       "    <tr>\n",
       "      <th>max</th>\n",
       "      <td>100.000000</td>\n",
       "      <td>396.900000</td>\n",
       "      <td>8.780000</td>\n",
       "      <td>88.976200</td>\n",
       "      <td>12.126500</td>\n",
       "      <td>27.740000</td>\n",
       "      <td>37.970000</td>\n",
       "      <td>0.871000</td>\n",
       "      <td>22.000000</td>\n",
       "      <td>24.000000</td>\n",
       "      <td>100.000000</td>\n",
       "      <td>711.000000</td>\n",
       "      <td>1.000000</td>\n",
       "    </tr>\n",
       "  </tbody>\n",
       "</table>\n",
       "</div>"
      ],
      "text/plain": [
       "              AGE           B          RM        CRIM         DIS       INDUS  \\\n",
       "count  506.000000  506.000000  506.000000  506.000000  506.000000  506.000000   \n",
       "mean    68.574901  356.674032    6.284634    3.613524    3.795043   11.136779   \n",
       "std     28.148861   91.294864    0.702617    8.601545    2.105710    6.860353   \n",
       "min      2.900000    0.320000    3.561000    0.006320    1.129600    0.460000   \n",
       "25%     45.025000  375.377500    5.885500    0.082045    2.100175    5.190000   \n",
       "50%     77.500000  391.440000    6.208500    0.256510    3.207450    9.690000   \n",
       "75%     94.075000  396.225000    6.623500    3.677082    5.188425   18.100000   \n",
       "max    100.000000  396.900000    8.780000   88.976200   12.126500   27.740000   \n",
       "\n",
       "            LSTAT         NOX     PTRATIO         RAD          ZN         TAX  \\\n",
       "count  506.000000  506.000000  506.000000  506.000000  506.000000  506.000000   \n",
       "mean    12.653063    0.554695   18.455534    9.549407   11.363636  408.237154   \n",
       "std      7.141062    0.115878    2.164946    8.707259   23.322453  168.537116   \n",
       "min      1.730000    0.385000   12.600000    1.000000    0.000000  187.000000   \n",
       "25%      6.950000    0.449000   17.400000    4.000000    0.000000  279.000000   \n",
       "50%     11.360000    0.538000   19.050000    5.000000    0.000000  330.000000   \n",
       "75%     16.955000    0.624000   20.200000   24.000000   12.500000  666.000000   \n",
       "max     37.970000    0.871000   22.000000   24.000000  100.000000  711.000000   \n",
       "\n",
       "             CHAS  \n",
       "count  506.000000  \n",
       "mean     0.069170  \n",
       "std      0.253994  \n",
       "min      0.000000  \n",
       "25%      0.000000  \n",
       "50%      0.000000  \n",
       "75%      0.000000  \n",
       "max      1.000000  "
      ]
     },
     "execution_count": 5,
     "metadata": {},
     "output_type": "execute_result"
    }
   ],
   "source": [
    "boston_data.describe()"
   ]
  },
  {
   "cell_type": "code",
   "execution_count": 7,
   "metadata": {},
   "outputs": [
    {
     "data": {
      "text/plain": [
       "'\\n타겟 데이터\\n1978 보스턴 주택 가격\\n506개 타운의 주택 가격 중앙값 (단위 1,000 달러)\\n\\n특징 데이터\\nCRIM: 범죄율\\nINDUS: 비소매상업지역 면적 비율\\nNOX: 일산화질소 농도\\nRM: 주택당 방 수\\nLSTAT: 인구 중 하위 계층 비율\\nB: 인구 중 흑인 비율\\nPTRATIO: 학생/교사 비율\\nZN: 25,000 평방피트를 초과 거주지역 비율\\nCHAS: 찰스강의 경계에 위치한 경우는 1, 아니면 0\\nAGE: 1940년 이전에 건축된 주택의 비율\\nRAD: 방사형 고속도로까지의 거리\\nDIS: 직업센터의 거리\\nTAX: 재산세율'"
      ]
     },
     "execution_count": 7,
     "metadata": {},
     "output_type": "execute_result"
    }
   ],
   "source": [
    "'''\n",
    "타겟 데이터\n",
    "1978 보스턴 주택 가격\n",
    "506개 타운의 주택 가격 중앙값 (단위 1,000 달러)\n",
    "\n",
    "특징 데이터\n",
    "CRIM: 범죄율\n",
    "INDUS: 비소매상업지역 면적 비율\n",
    "NOX: 일산화질소 농도\n",
    "RM: 주택당 방 수\n",
    "LSTAT: 인구 중 하위 계층 비율\n",
    "B: 인구 중 흑인 비율\n",
    "PTRATIO: 학생/교사 비율\n",
    "ZN: 25,000 평방피트를 초과 거주지역 비율\n",
    "CHAS: 찰스강의 경계에 위치한 경우는 1, 아니면 0\n",
    "AGE: 1940년 이전에 건축된 주택의 비율\n",
    "RAD: 방사형 고속도로까지의 거리\n",
    "DIS: 직업센터의 거리\n",
    "TAX: 재산세율'''"
   ]
  },
  {
   "cell_type": "markdown",
   "metadata": {},
   "source": [
    "# crim/rm/lstat 세게의 변수로 각각 단순 선형 회귀 분석하기"
   ]
  },
  {
   "cell_type": "code",
   "execution_count": 6,
   "metadata": {},
   "outputs": [],
   "source": [
    "target = boston[['Target']]\n",
    "# boston_target\n",
    "crim = boston[['CRIM']]\n",
    "rm = boston[['RM']]\n",
    "lstat = boston['LSTAT']"
   ]
  },
  {
   "cell_type": "markdown",
   "metadata": {},
   "source": [
    "## target ~ crim 선형회귀분석"
   ]
  },
  {
   "cell_type": "code",
   "execution_count": 7,
   "metadata": {},
   "outputs": [],
   "source": [
    "crim1 = sm.add_constant(crim, has_constant='add')"
   ]
  },
  {
   "cell_type": "code",
   "execution_count": 8,
   "metadata": {},
   "outputs": [],
   "source": [
    "model1 = sm.OLS(target,crim1)\n",
    "fitted_model1=model1.fit()\n"
   ]
  },
  {
   "cell_type": "code",
   "execution_count": 9,
   "metadata": {},
   "outputs": [
    {
     "data": {
      "text/html": [
       "<table class=\"simpletable\">\n",
       "<caption>OLS Regression Results</caption>\n",
       "<tr>\n",
       "  <th>Dep. Variable:</th>         <td>Target</td>      <th>  R-squared:         </th> <td>   0.151</td>\n",
       "</tr>\n",
       "<tr>\n",
       "  <th>Model:</th>                   <td>OLS</td>       <th>  Adj. R-squared:    </th> <td>   0.149</td>\n",
       "</tr>\n",
       "<tr>\n",
       "  <th>Method:</th>             <td>Least Squares</td>  <th>  F-statistic:       </th> <td>   89.49</td>\n",
       "</tr>\n",
       "<tr>\n",
       "  <th>Date:</th>             <td>Fri, 19 Feb 2021</td> <th>  Prob (F-statistic):</th> <td>1.17e-19</td>\n",
       "</tr>\n",
       "<tr>\n",
       "  <th>Time:</th>                 <td>12:03:43</td>     <th>  Log-Likelihood:    </th> <td> -1798.9</td>\n",
       "</tr>\n",
       "<tr>\n",
       "  <th>No. Observations:</th>      <td>   506</td>      <th>  AIC:               </th> <td>   3602.</td>\n",
       "</tr>\n",
       "<tr>\n",
       "  <th>Df Residuals:</th>          <td>   504</td>      <th>  BIC:               </th> <td>   3610.</td>\n",
       "</tr>\n",
       "<tr>\n",
       "  <th>Df Model:</th>              <td>     1</td>      <th>                     </th>     <td> </td>   \n",
       "</tr>\n",
       "<tr>\n",
       "  <th>Covariance Type:</th>      <td>nonrobust</td>    <th>                     </th>     <td> </td>   \n",
       "</tr>\n",
       "</table>\n",
       "<table class=\"simpletable\">\n",
       "<tr>\n",
       "    <td></td>       <th>coef</th>     <th>std err</th>      <th>t</th>      <th>P>|t|</th>  <th>[0.025</th>    <th>0.975]</th>  \n",
       "</tr>\n",
       "<tr>\n",
       "  <th>const</th> <td>   24.0331</td> <td>    0.409</td> <td>   58.740</td> <td> 0.000</td> <td>   23.229</td> <td>   24.837</td>\n",
       "</tr>\n",
       "<tr>\n",
       "  <th>CRIM</th>  <td>   -0.4152</td> <td>    0.044</td> <td>   -9.460</td> <td> 0.000</td> <td>   -0.501</td> <td>   -0.329</td>\n",
       "</tr>\n",
       "</table>\n",
       "<table class=\"simpletable\">\n",
       "<tr>\n",
       "  <th>Omnibus:</th>       <td>139.832</td> <th>  Durbin-Watson:     </th> <td>   0.713</td>\n",
       "</tr>\n",
       "<tr>\n",
       "  <th>Prob(Omnibus):</th> <td> 0.000</td>  <th>  Jarque-Bera (JB):  </th> <td> 295.404</td>\n",
       "</tr>\n",
       "<tr>\n",
       "  <th>Skew:</th>          <td> 1.490</td>  <th>  Prob(JB):          </th> <td>7.14e-65</td>\n",
       "</tr>\n",
       "<tr>\n",
       "  <th>Kurtosis:</th>      <td> 5.264</td>  <th>  Cond. No.          </th> <td>    10.1</td>\n",
       "</tr>\n",
       "</table><br/><br/>Warnings:<br/>[1] Standard Errors assume that the covariance matrix of the errors is correctly specified."
      ],
      "text/plain": [
       "<class 'statsmodels.iolib.summary.Summary'>\n",
       "\"\"\"\n",
       "                            OLS Regression Results                            \n",
       "==============================================================================\n",
       "Dep. Variable:                 Target   R-squared:                       0.151\n",
       "Model:                            OLS   Adj. R-squared:                  0.149\n",
       "Method:                 Least Squares   F-statistic:                     89.49\n",
       "Date:                Fri, 19 Feb 2021   Prob (F-statistic):           1.17e-19\n",
       "Time:                        12:03:43   Log-Likelihood:                -1798.9\n",
       "No. Observations:                 506   AIC:                             3602.\n",
       "Df Residuals:                     504   BIC:                             3610.\n",
       "Df Model:                           1                                         \n",
       "Covariance Type:            nonrobust                                         \n",
       "==============================================================================\n",
       "                 coef    std err          t      P>|t|      [0.025      0.975]\n",
       "------------------------------------------------------------------------------\n",
       "const         24.0331      0.409     58.740      0.000      23.229      24.837\n",
       "CRIM          -0.4152      0.044     -9.460      0.000      -0.501      -0.329\n",
       "==============================================================================\n",
       "Omnibus:                      139.832   Durbin-Watson:                   0.713\n",
       "Prob(Omnibus):                  0.000   Jarque-Bera (JB):              295.404\n",
       "Skew:                           1.490   Prob(JB):                     7.14e-65\n",
       "Kurtosis:                       5.264   Cond. No.                         10.1\n",
       "==============================================================================\n",
       "\n",
       "Warnings:\n",
       "[1] Standard Errors assume that the covariance matrix of the errors is correctly specified.\n",
       "\"\"\""
      ]
     },
     "execution_count": 9,
     "metadata": {},
     "output_type": "execute_result"
    }
   ],
   "source": [
    "fitted_model1.summary()"
   ]
  },
  {
   "cell_type": "markdown",
   "metadata": {},
   "source": [
    "## y_hat=beta0 + beta1 * X 계산해보기\n"
   ]
  },
  {
   "cell_type": "code",
   "execution_count": 10,
   "metadata": {},
   "outputs": [
    {
     "data": {
      "text/plain": [
       "array([ 24.03048217,  24.02176733,  24.02177563,  24.01966646,\n",
       "        24.00443729,  24.02071274,  23.99644902,  23.97309042,\n",
       "        23.94540138,  23.96250722,  23.93973403,  23.98433377,\n",
       "        23.99416963,  23.77163594,  23.76823138,  23.77261995,\n",
       "        23.59552468,  23.70751396,  23.69982879,  23.73176107,\n",
       "        23.51337514,  23.67934745,  23.52139661,  23.62271965,\n",
       "        23.72160552,  23.68412214,  23.75413567,  23.63627976,\n",
       "        23.71216824,  23.61689868,  23.56360486,  23.4706396 ,\n",
       "        23.45682622,  23.55492323,  23.36347899,  24.00646341,\n",
       "        23.99265003,  23.99983283,  23.96042712,  24.02163447,\n",
       "        24.01915993,  23.98019433,  23.97435675,  23.96694145,\n",
       "        23.98216648,  23.96193426,  23.95490093,  23.9379155 ,\n",
       "        23.92770182,  23.94185981,  23.99626634,  24.01509937,\n",
       "        24.01085198,  24.01242555,  24.02745959,  24.02766303,\n",
       "        24.02457401,  24.02716065,  23.96898004,  23.99022532,\n",
       "        23.97110996,  23.96181385,  23.98732314,  23.9805846 ,\n",
       "        24.02500581,  24.01822575,  24.01492499,  24.00907081,\n",
       "        23.97683128,  23.97989539,  23.99646148,  23.96719057,\n",
       "        23.99505814,  23.95198215,  24.00032275,  23.99361327,\n",
       "        23.99095191,  23.99695556,  24.00966453,  23.99828417,\n",
       "        24.0160294 ,  24.01458038,  24.01791436,  24.01836277,\n",
       "        24.0121017 ,  24.00929501,  24.0115661 ,  24.00341592,\n",
       "        24.0096064 ,  24.01109279,  24.01365866,  24.01678089,\n",
       "        24.01565573,  24.02116945,  24.0152779 ,  23.98243635,\n",
       "        23.98534268,  23.98293873,  23.99911455,  24.00462412,\n",
       "        23.97138399,  23.98564162,  23.93812725,  23.94524776,\n",
       "        23.97514561,  23.97804364,  23.9620256 ,  23.97864567,\n",
       "        23.97995351,  23.92364956,  23.98829469,  23.99123839,\n",
       "        23.98191736,  23.94088411,  23.97402045,  23.96196747,\n",
       "        23.97847544,  23.97042075,  23.97889063,  23.97300323,\n",
       "        24.0044622 ,  24.00335779,  23.99449763,  23.97066986,\n",
       "        23.99221408,  23.96293071,  23.87228222,  23.92550961,\n",
       "        23.8979908 ,  23.66721974,  23.89191657,  23.53780908,\n",
       "        23.78812315,  23.89616812,  23.62780988,  23.80152134,\n",
       "        23.89914918,  23.88682218,  23.92939164,  23.80702676,\n",
       "        23.91232732,  23.35691068,  22.6542385 ,  22.33190553,\n",
       "        22.87898515,  23.04522734,  23.13835037,  23.04967818,\n",
       "        23.06530179,  22.89798841,  23.34530196,  23.41184866,\n",
       "        23.56536111,  23.14078753,  23.4460894 ,  22.56540439,\n",
       "        23.01726842,  23.52508765,  23.47557206,  23.44145172,\n",
       "        23.50437796,  23.42553333,  23.2717427 ,  23.40242384,\n",
       "        23.1021001 ,  22.8190898 ,  23.19849483,  23.28564742,\n",
       "        23.07800246,  23.01608513,  23.53179713,  23.07239739,\n",
       "        23.9753366 ,  23.99500001,  23.99803505,  24.00543789,\n",
       "        24.00395151,  24.0105821 ,  24.00552924,  24.00910818,\n",
       "        24.00575344,  24.00450787,  23.9953114 ,  23.99155393,\n",
       "        23.99861217,  24.00799962,  24.00984721,  24.00040994,\n",
       "        23.98087939,  23.99835475,  23.99545672,  24.00441237,\n",
       "        23.99713409,  24.02402596,  24.02713159,  24.0273724 ,\n",
       "        24.01645289,  24.0137334 ,  24.0174618 ,  24.02002768,\n",
       "        24.02572409,  24.01880287,  24.02406748,  24.018533  ,\n",
       "        24.024765  ,  23.97646592,  23.93774112,  23.92848238,\n",
       "        23.97669427,  23.85220362,  23.96067208,  23.87708597,\n",
       "        23.942931  ,  23.97476364,  23.91288783,  23.9508902 ,\n",
       "        24.0141735 ,  24.00398888,  23.98714876,  23.98567068,\n",
       "        23.88443069,  23.86382895,  23.77421012,  23.77788871,\n",
       "        23.90218422,  23.81432996,  23.87444536,  23.86189001,\n",
       "        23.90930059,  23.84968341,  23.81014899,  23.84088968,\n",
       "        23.79425136,  23.89548305,  23.8471383 ,  23.89590655,\n",
       "        23.81696642,  23.82059933,  23.99887789,  23.99469277,\n",
       "        23.98606927,  23.98904618,  23.99038309,  23.98014035,\n",
       "        23.94754376,  23.95366782,  23.89201206,  23.95149222,\n",
       "        23.96485304,  23.95391693,  23.97485498,  23.94421809,\n",
       "        23.99897338,  23.87992587,  24.01309815,  24.01837522,\n",
       "        24.02672055,  23.77920071,  23.75762327,  23.76047148,\n",
       "        23.80885775,  23.81134474,  23.8171491 ,  23.69046625,\n",
       "        23.80472246,  23.71688895,  23.70689117,  23.79298503,\n",
       "        23.80869583,  23.99546918,  23.90889785,  23.96579968,\n",
       "        23.98552537,  23.94098376,  24.00967283,  23.9932313 ,\n",
       "        23.9896399 ,  24.00766747,  23.99998229,  23.94575844,\n",
       "        24.01825067,  24.01772337,  24.00765916,  24.02687417,\n",
       "        24.02934455,  24.02855569,  24.02494769,  24.01703416,\n",
       "        24.01404894,  24.01526545,  24.01856621,  24.00036427,\n",
       "        24.01809705,  23.9987907 ,  23.99906472,  23.97941377,\n",
       "        24.01080215,  23.97455189,  24.00625997,  24.01001744,\n",
       "        24.01476722,  24.01842089,  23.99463464,  23.99158715,\n",
       "        24.01020843,  24.0103579 ,  24.00195445,  24.01262899,\n",
       "        23.82842567,  23.88803869,  22.9388805 ,  23.70493563,\n",
       "        23.92445503,  23.92126222,  23.87981792,  23.92783053,\n",
       "        23.90096356,  23.93129321,  23.86619138,  23.83569565,\n",
       "        23.96352028,  23.95771177,  23.88731626,  23.91522535,\n",
       "        23.89148892,  23.95344777,  23.90710838,  23.93303286,\n",
       "        24.00563303,  24.00518878,  24.01423993,  24.01225117,\n",
       "        24.01871568,  24.01200205,  24.01758636,  24.01666049,\n",
       "        24.0188776 ,  24.02048024,  24.01937998,  24.01028316,\n",
       "        24.00756782,  24.02770455,  24.02273472,  24.02254789,\n",
       "        24.02044702,  24.0201813 ,  24.00752215,  24.02534212,\n",
       "        24.02687417,  24.02106981,  24.00731871,  24.00009855,\n",
       "        24.00302979,  24.02601057,  24.01524884,  23.98885104,\n",
       "        20.30346852,  22.43474816,  21.87338184,  22.26385169,\n",
       "        22.14734515,  22.44008751,  22.50594499,  22.2800109 ,\n",
       "        22.5906189 ,  22.14155324,  22.49816848,  18.4188202 ,\n",
       "        21.99941285,  21.6789856 ,  21.31827659,  20.19994497,\n",
       "        20.60062435,  19.42113105,  16.35283338,  15.8915985 ,\n",
       "        17.68567721,  19.95448863,  14.21460344,  16.61502604,\n",
       "       -12.90894703,  17.44220963,  20.21874479,  20.71470618,\n",
       "        15.69405096,  17.05301026,  13.90503757,  14.65100995,\n",
       "        18.08189329,  20.64858298,  21.14248918,  21.83548327,\n",
       "        19.22607466,  20.44388587,  18.4862471 ,  20.41399632,\n",
       "        21.5950881 ,  20.84775806,   8.10981167,  19.91585102,\n",
       "        13.63420895,  18.12237434,  20.04906067,  13.73568146,\n",
       "         6.79058608,  -4.16694965,  15.43194134,  19.07112564,\n",
       "        20.95908303,  18.03846438,   2.80201916,  18.19939214,\n",
       "        16.22296186,  12.13549661,   5.0397702 ,  16.52455607,\n",
       "        19.53485167,  13.26282125,  -6.49753724,  19.12875405,\n",
       "        19.42972549,  21.11739508,  19.03081067,  21.10584033,\n",
       "        20.38270343,  17.44806381,  18.9481878 ,   8.39625145,\n",
       "        20.97435373,  20.15568984,  20.50725636,  19.85533704,\n",
       "        21.35759926,  21.71590017,  18.25639776,  19.3994166 ,\n",
       "        18.04573021,  17.73168029,  18.35409203,  20.13420789,\n",
       "        14.87770384,  19.99572118,  21.68048444,  19.89509566,\n",
       "        18.71771568,  19.60227857,  21.42236064,  19.91240494,\n",
       "        20.1597587 ,  20.90837999,  21.24397414,  21.77399775,\n",
       "        21.91971708,  20.60857939,  20.08313949,  22.05996835,\n",
       "        22.09465335,  20.62830508,  20.81445565,  21.20932651,\n",
       "        22.03515658,  22.49976281,  21.27004809,  21.61622129,\n",
       "        20.77829672,  22.71961021,  22.46577118,  22.19701851,\n",
       "        17.56622696,  18.60445177,  22.22753085,  22.3563976 ,\n",
       "        22.55142493,  22.10376262,  20.68842049,  21.3787449 ,\n",
       "        22.0105441 ,  17.79553655,  19.78446406,  18.08189329,\n",
       "        21.61503384,  21.66312533,  21.65358426,  22.8629422 ,\n",
       "        23.04554703,  22.50783411,  21.66994691,  22.025383  ,\n",
       "        23.97047057,  23.95697273,  23.9469708 ,  23.98920395,\n",
       "        23.98688719,  23.96114955,  23.91703143,  23.95879127,\n",
       "        23.91286707,  23.92167741,  23.93382587,  23.95927289,\n",
       "        23.93994578,  24.00710281,  24.01431051,  24.00787921,\n",
       "        23.98760547,  24.013422  ])"
      ]
     },
     "execution_count": 10,
     "metadata": {},
     "output_type": "execute_result"
    }
   ],
   "source": [
    "(np.dot(crim1,fitted_model1.params))"
   ]
  },
  {
   "cell_type": "code",
   "execution_count": 12,
   "metadata": {},
   "outputs": [],
   "source": [
    "pred1=fitted_model1.predict(crim1)"
   ]
  },
  {
   "cell_type": "code",
   "execution_count": 17,
   "metadata": {
    "scrolled": true
   },
   "outputs": [
    {
     "data": {
      "text/plain": [
       "0      0.0\n",
       "1      0.0\n",
       "2      0.0\n",
       "3      0.0\n",
       "4      0.0\n",
       "5      0.0\n",
       "6      0.0\n",
       "7      0.0\n",
       "8      0.0\n",
       "9      0.0\n",
       "10     0.0\n",
       "11     0.0\n",
       "12     0.0\n",
       "13     0.0\n",
       "14     0.0\n",
       "15     0.0\n",
       "16     0.0\n",
       "17     0.0\n",
       "18     0.0\n",
       "19     0.0\n",
       "20     0.0\n",
       "21     0.0\n",
       "22     0.0\n",
       "23     0.0\n",
       "24     0.0\n",
       "25     0.0\n",
       "26     0.0\n",
       "27     0.0\n",
       "28     0.0\n",
       "29     0.0\n",
       "      ... \n",
       "476    0.0\n",
       "477    0.0\n",
       "478    0.0\n",
       "479    0.0\n",
       "480    0.0\n",
       "481    0.0\n",
       "482    0.0\n",
       "483    0.0\n",
       "484    0.0\n",
       "485    0.0\n",
       "486    0.0\n",
       "487    0.0\n",
       "488    0.0\n",
       "489    0.0\n",
       "490    0.0\n",
       "491    0.0\n",
       "492    0.0\n",
       "493    0.0\n",
       "494    0.0\n",
       "495    0.0\n",
       "496    0.0\n",
       "497    0.0\n",
       "498    0.0\n",
       "499    0.0\n",
       "500    0.0\n",
       "501    0.0\n",
       "502    0.0\n",
       "503    0.0\n",
       "504    0.0\n",
       "505    0.0\n",
       "Length: 506, dtype: float64"
      ]
     },
     "execution_count": 17,
     "metadata": {},
     "output_type": "execute_result"
    }
   ],
   "source": [
    "pred1-np.dot(crim1,fitted_model1.params)"
   ]
  },
  {
   "cell_type": "markdown",
   "metadata": {},
   "source": [
    "## 적합시킨 직선 시각화"
   ]
  },
  {
   "cell_type": "code",
   "execution_count": 13,
   "metadata": {},
   "outputs": [
    {
     "data": {
      "image/png": "[encoded data removed]",
      "text/plain": [
       "<Figure size 432x288 with 1 Axes>"
      ]
     },
     "metadata": {
      "needs_background": "light"
     },
     "output_type": "display_data"
    }
   ],
   "source": [
    "import matplotlib.pyplot as plt\n",
    "plt.yticks(fontname = \"Arial\") #\n",
    "plt.scatter(crim,target,label=\"data\")\n",
    "plt.plot(crim,pred1,label=\"result\")\n",
    "plt.legend()\n",
    "plt.show()"
   ]
  },
  {
   "cell_type": "code",
   "execution_count": 14,
   "metadata": {},
   "outputs": [
    {
     "data": {
      "image/png": "[encoded data removed]",
      "text/plain": [
       "<Figure size 432x288 with 1 Axes>"
      ]
     },
     "metadata": {
      "needs_background": "light"
     },
     "output_type": "display_data"
    }
   ],
   "source": [
    "\n",
    "plt.scatter(target,pred1)\n",
    "plt.xlabel(\"real_value\")\n",
    "plt.ylabel(\"pred_value\")\n",
    "plt.show()"
   ]
  },
  {
   "cell_type": "code",
   "execution_count": 15,
   "metadata": {},
   "outputs": [
    {
     "data": {
      "image/png": "[encoded data removed]",
      "text/plain": [
       "<Figure size 432x288 with 1 Axes>"
      ]
     },
     "metadata": {
      "needs_background": "light"
     },
     "output_type": "display_data"
    }
   ],
   "source": [
    "fitted_model1.resid.plot()\n",
    "plt.xlabel(\"residual_number\")\n",
    "plt.show()"
   ]
  },
  {
   "cell_type": "code",
   "execution_count": 16,
   "metadata": {},
   "outputs": [
    {
     "data": {
      "text/plain": [
       "-2.717825964282383e-13"
      ]
     },
     "execution_count": 16,
     "metadata": {},
     "output_type": "execute_result"
    }
   ],
   "source": [
    "##잔차의 합계산해보기\n",
    "\n",
    "sum(fitted_model1.resid)"
   ]
  },
  {
   "cell_type": "markdown",
   "metadata": {},
   "source": [
    "## 위와 동일하게 rm변수와 lstat 변수로 각각 단순선형회귀분석 적합시켜보기\n"
   ]
  },
  {
   "cell_type": "code",
   "execution_count": 157,
   "metadata": {},
   "outputs": [],
   "source": [
    "rm1 = sm.add_constant(rm, has_constant='add')\n",
    "lstat1 = sm.add_constant(lstat, has_constant='add')"
   ]
  },
  {
   "cell_type": "code",
   "execution_count": 168,
   "metadata": {},
   "outputs": [],
   "source": [
    "model2 = sm.OLS(target,rm1)\n",
    "fitted_model2=model2.fit()\n",
    "model3 = sm.OLS(target,lstat1)\n",
    "fitted_model3=model3.fit()"
   ]
  },
  {
   "cell_type": "code",
   "execution_count": 159,
   "metadata": {},
   "outputs": [
    {
     "data": {
      "text/html": [
       "<table class=\"simpletable\">\n",
       "<caption>OLS Regression Results</caption>\n",
       "<tr>\n",
       "  <th>Dep. Variable:</th>         <td>Target</td>      <th>  R-squared:         </th> <td>   0.484</td>\n",
       "</tr>\n",
       "<tr>\n",
       "  <th>Model:</th>                   <td>OLS</td>       <th>  Adj. R-squared:    </th> <td>   0.483</td>\n",
       "</tr>\n",
       "<tr>\n",
       "  <th>Method:</th>             <td>Least Squares</td>  <th>  F-statistic:       </th> <td>   471.8</td>\n",
       "</tr>\n",
       "<tr>\n",
       "  <th>Date:</th>             <td>Mon, 12 Aug 2019</td> <th>  Prob (F-statistic):</th> <td>2.49e-74</td>\n",
       "</tr>\n",
       "<tr>\n",
       "  <th>Time:</th>                 <td>16:00:59</td>     <th>  Log-Likelihood:    </th> <td> -1673.1</td>\n",
       "</tr>\n",
       "<tr>\n",
       "  <th>No. Observations:</th>      <td>   506</td>      <th>  AIC:               </th> <td>   3350.</td>\n",
       "</tr>\n",
       "<tr>\n",
       "  <th>Df Residuals:</th>          <td>   504</td>      <th>  BIC:               </th> <td>   3359.</td>\n",
       "</tr>\n",
       "<tr>\n",
       "  <th>Df Model:</th>              <td>     1</td>      <th>                     </th>     <td> </td>   \n",
       "</tr>\n",
       "<tr>\n",
       "  <th>Covariance Type:</th>      <td>nonrobust</td>    <th>                     </th>     <td> </td>   \n",
       "</tr>\n",
       "</table>\n",
       "<table class=\"simpletable\">\n",
       "<tr>\n",
       "    <td></td>       <th>coef</th>     <th>std err</th>      <th>t</th>      <th>P>|t|</th>  <th>[0.025</th>    <th>0.975]</th>  \n",
       "</tr>\n",
       "<tr>\n",
       "  <th>const</th> <td>  -34.6706</td> <td>    2.650</td> <td>  -13.084</td> <td> 0.000</td> <td>  -39.877</td> <td>  -29.465</td>\n",
       "</tr>\n",
       "<tr>\n",
       "  <th>RM</th>    <td>    9.1021</td> <td>    0.419</td> <td>   21.722</td> <td> 0.000</td> <td>    8.279</td> <td>    9.925</td>\n",
       "</tr>\n",
       "</table>\n",
       "<table class=\"simpletable\">\n",
       "<tr>\n",
       "  <th>Omnibus:</th>       <td>102.585</td> <th>  Durbin-Watson:     </th> <td>   0.684</td> \n",
       "</tr>\n",
       "<tr>\n",
       "  <th>Prob(Omnibus):</th> <td> 0.000</td>  <th>  Jarque-Bera (JB):  </th> <td> 612.449</td> \n",
       "</tr>\n",
       "<tr>\n",
       "  <th>Skew:</th>          <td> 0.726</td>  <th>  Prob(JB):          </th> <td>1.02e-133</td>\n",
       "</tr>\n",
       "<tr>\n",
       "  <th>Kurtosis:</th>      <td> 8.190</td>  <th>  Cond. No.          </th> <td>    58.4</td> \n",
       "</tr>\n",
       "</table><br/><br/>Warnings:<br/>[1] Standard Errors assume that the covariance matrix of the errors is correctly specified."
      ],
      "text/plain": [
       "<class 'statsmodels.iolib.summary.Summary'>\n",
       "\"\"\"\n",
       "                            OLS Regression Results                            \n",
       "==============================================================================\n",
       "Dep. Variable:                 Target   R-squared:                       0.484\n",
       "Model:                            OLS   Adj. R-squared:                  0.483\n",
       "Method:                 Least Squares   F-statistic:                     471.8\n",
       "Date:                Mon, 12 Aug 2019   Prob (F-statistic):           2.49e-74\n",
       "Time:                        16:00:59   Log-Likelihood:                -1673.1\n",
       "No. Observations:                 506   AIC:                             3350.\n",
       "Df Residuals:                     504   BIC:                             3359.\n",
       "Df Model:                           1                                         \n",
       "Covariance Type:            nonrobust                                         \n",
       "==============================================================================\n",
       "                 coef    std err          t      P>|t|      [0.025      0.975]\n",
       "------------------------------------------------------------------------------\n",
       "const        -34.6706      2.650    -13.084      0.000     -39.877     -29.465\n",
       "RM             9.1021      0.419     21.722      0.000       8.279       9.925\n",
       "==============================================================================\n",
       "Omnibus:                      102.585   Durbin-Watson:                   0.684\n",
       "Prob(Omnibus):                  0.000   Jarque-Bera (JB):              612.449\n",
       "Skew:                           0.726   Prob(JB):                    1.02e-133\n",
       "Kurtosis:                       8.190   Cond. No.                         58.4\n",
       "==============================================================================\n",
       "\n",
       "Warnings:\n",
       "[1] Standard Errors assume that the covariance matrix of the errors is correctly specified.\n",
       "\"\"\""
      ]
     },
     "execution_count": 159,
     "metadata": {},
     "output_type": "execute_result"
    }
   ],
   "source": [
    "fitted_model2.summary()"
   ]
  },
  {
   "cell_type": "code",
   "execution_count": 169,
   "metadata": {},
   "outputs": [
    {
     "data": {
      "text/html": [
       "<table class=\"simpletable\">\n",
       "<caption>OLS Regression Results</caption>\n",
       "<tr>\n",
       "  <th>Dep. Variable:</th>         <td>Target</td>      <th>  R-squared:         </th> <td>   0.544</td>\n",
       "</tr>\n",
       "<tr>\n",
       "  <th>Model:</th>                   <td>OLS</td>       <th>  Adj. R-squared:    </th> <td>   0.543</td>\n",
       "</tr>\n",
       "<tr>\n",
       "  <th>Method:</th>             <td>Least Squares</td>  <th>  F-statistic:       </th> <td>   601.6</td>\n",
       "</tr>\n",
       "<tr>\n",
       "  <th>Date:</th>             <td>Mon, 12 Aug 2019</td> <th>  Prob (F-statistic):</th> <td>5.08e-88</td>\n",
       "</tr>\n",
       "<tr>\n",
       "  <th>Time:</th>                 <td>16:04:22</td>     <th>  Log-Likelihood:    </th> <td> -1641.5</td>\n",
       "</tr>\n",
       "<tr>\n",
       "  <th>No. Observations:</th>      <td>   506</td>      <th>  AIC:               </th> <td>   3287.</td>\n",
       "</tr>\n",
       "<tr>\n",
       "  <th>Df Residuals:</th>          <td>   504</td>      <th>  BIC:               </th> <td>   3295.</td>\n",
       "</tr>\n",
       "<tr>\n",
       "  <th>Df Model:</th>              <td>     1</td>      <th>                     </th>     <td> </td>   \n",
       "</tr>\n",
       "<tr>\n",
       "  <th>Covariance Type:</th>      <td>nonrobust</td>    <th>                     </th>     <td> </td>   \n",
       "</tr>\n",
       "</table>\n",
       "<table class=\"simpletable\">\n",
       "<tr>\n",
       "    <td></td>       <th>coef</th>     <th>std err</th>      <th>t</th>      <th>P>|t|</th>  <th>[0.025</th>    <th>0.975]</th>  \n",
       "</tr>\n",
       "<tr>\n",
       "  <th>const</th> <td>   34.5538</td> <td>    0.563</td> <td>   61.415</td> <td> 0.000</td> <td>   33.448</td> <td>   35.659</td>\n",
       "</tr>\n",
       "<tr>\n",
       "  <th>LSTAT</th> <td>   -0.9500</td> <td>    0.039</td> <td>  -24.528</td> <td> 0.000</td> <td>   -1.026</td> <td>   -0.874</td>\n",
       "</tr>\n",
       "</table>\n",
       "<table class=\"simpletable\">\n",
       "<tr>\n",
       "  <th>Omnibus:</th>       <td>137.043</td> <th>  Durbin-Watson:     </th> <td>   0.892</td>\n",
       "</tr>\n",
       "<tr>\n",
       "  <th>Prob(Omnibus):</th> <td> 0.000</td>  <th>  Jarque-Bera (JB):  </th> <td> 291.373</td>\n",
       "</tr>\n",
       "<tr>\n",
       "  <th>Skew:</th>          <td> 1.453</td>  <th>  Prob(JB):          </th> <td>5.36e-64</td>\n",
       "</tr>\n",
       "<tr>\n",
       "  <th>Kurtosis:</th>      <td> 5.319</td>  <th>  Cond. No.          </th> <td>    29.7</td>\n",
       "</tr>\n",
       "</table><br/><br/>Warnings:<br/>[1] Standard Errors assume that the covariance matrix of the errors is correctly specified."
      ],
      "text/plain": [
       "<class 'statsmodels.iolib.summary.Summary'>\n",
       "\"\"\"\n",
       "                            OLS Regression Results                            \n",
       "==============================================================================\n",
       "Dep. Variable:                 Target   R-squared:                       0.544\n",
       "Model:                            OLS   Adj. R-squared:                  0.543\n",
       "Method:                 Least Squares   F-statistic:                     601.6\n",
       "Date:                Mon, 12 Aug 2019   Prob (F-statistic):           5.08e-88\n",
       "Time:                        16:04:22   Log-Likelihood:                -1641.5\n",
       "No. Observations:                 506   AIC:                             3287.\n",
       "Df Residuals:                     504   BIC:                             3295.\n",
       "Df Model:                           1                                         \n",
       "Covariance Type:            nonrobust                                         \n",
       "==============================================================================\n",
       "                 coef    std err          t      P>|t|      [0.025      0.975]\n",
       "------------------------------------------------------------------------------\n",
       "const         34.5538      0.563     61.415      0.000      33.448      35.659\n",
       "LSTAT         -0.9500      0.039    -24.528      0.000      -1.026      -0.874\n",
       "==============================================================================\n",
       "Omnibus:                      137.043   Durbin-Watson:                   0.892\n",
       "Prob(Omnibus):                  0.000   Jarque-Bera (JB):              291.373\n",
       "Skew:                           1.453   Prob(JB):                     5.36e-64\n",
       "Kurtosis:                       5.319   Cond. No.                         29.7\n",
       "==============================================================================\n",
       "\n",
       "Warnings:\n",
       "[1] Standard Errors assume that the covariance matrix of the errors is correctly specified.\n",
       "\"\"\""
      ]
     },
     "execution_count": 169,
     "metadata": {},
     "output_type": "execute_result"
    }
   ],
   "source": [
    "fitted_model3.summary()"
   ]
  },
  {
   "cell_type": "code",
   "execution_count": 170,
   "metadata": {},
   "outputs": [],
   "source": [
    "pred2=fitted_model2.predict(rm1)\n",
    "pred3=fitted_model3.predict(lstat1)\n"
   ]
  },
  {
   "cell_type": "code",
   "execution_count": 171,
   "metadata": {},
   "outputs": [
    {
     "data": {
      "image/png": "[encoded data removed]",
      "text/plain": [
       "<Figure size 432x288 with 1 Axes>"
      ]
     },
     "metadata": {},
     "output_type": "display_data"
    }
   ],
   "source": [
    "import matplotlib.pyplot as plt\n",
    "plt.scatter(rm,target,label=\"data\")\n",
    "plt.plot(rm,pred2,label=\"result\")\n",
    "plt.legend()\n",
    "plt.show()"
   ]
  },
  {
   "cell_type": "code",
   "execution_count": 172,
   "metadata": {},
   "outputs": [
    {
     "data": {
      "image/png": "[encoded data removed]",
      "text/plain": [
       "<Figure size 432x288 with 1 Axes>"
      ]
     },
     "metadata": {},
     "output_type": "display_data"
    }
   ],
   "source": [
    "import matplotlib.pyplot as plt\n",
    "plt.scatter(lstat,target,label=\"data\")\n",
    "plt.plot(lstat,pred3,label=\"result\")\n",
    "plt.legend()\n",
    "plt.show()"
   ]
  },
  {
   "cell_type": "code",
   "execution_count": 173,
   "metadata": {},
   "outputs": [
    {
     "data": {
      "image/png": "[encoded data removed]",
      "text/plain": [
       "<Figure size 432x288 with 1 Axes>"
      ]
     },
     "metadata": {},
     "output_type": "display_data"
    }
   ],
   "source": [
    "fitted_model2.resid.plot()\n",
    "plt.xlabel(\"residual_number\")\n",
    "plt.show()"
   ]
  },
  {
   "cell_type": "code",
   "execution_count": 174,
   "metadata": {},
   "outputs": [
    {
     "data": {
      "image/png": "[encoded data removed]",
      "text/plain": [
       "<Figure size 432x288 with 1 Axes>"
      ]
     },
     "metadata": {},
     "output_type": "display_data"
    }
   ],
   "source": [
    "fitted_model3.resid.plot()\n",
    "plt.xlabel(\"residual_number\")\n",
    "plt.show()"
   ]
  },
  {
   "cell_type": "code",
   "execution_count": null,
   "metadata": {},
   "outputs": [],
   "source": [
    "fitted_model1.resid.plot(label=\"crim\")\n",
    "fitted_model2.resid.plot(label=\"rm\")\n",
    "fitted_model3.resid.plot(label=\"lstat\")\n",
    "plt.legend()"
   ]
  }
 ],
 "metadata": {
  "kernelspec": {
   "display_name": "Python 3",
   "language": "python",
   "name": "python3"
  },
  "language_info": {
   "codemirror_mode": {
    "name": "ipython",
    "version": 3
   },
   "file_extension": ".py",
   "mimetype": "text/x-python",
   "name": "python",
   "nbconvert_exporter": "python",
   "pygments_lexer": "ipython3",
   "version": "3.8.3"
  }
 },
 "nbformat": 4,
 "nbformat_minor": 2
}
